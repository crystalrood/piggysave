{
 "cells": [
  {
   "cell_type": "code",
   "execution_count": 31,
   "metadata": {},
   "outputs": [],
   "source": [
    "import pandas as pd\n",
    "import numpy as np\n"
   ]
  },
  {
   "cell_type": "code",
   "execution_count": 65,
   "metadata": {},
   "outputs": [
    {
     "data": {
      "text/html": [
       "<div>\n",
       "<style scoped>\n",
       "    .dataframe tbody tr th:only-of-type {\n",
       "        vertical-align: middle;\n",
       "    }\n",
       "\n",
       "    .dataframe tbody tr th {\n",
       "        vertical-align: top;\n",
       "    }\n",
       "\n",
       "    .dataframe thead th {\n",
       "        text-align: right;\n",
       "    }\n",
       "</style>\n",
       "<table border=\"1\" class=\"dataframe\">\n",
       "  <thead>\n",
       "    <tr style=\"text-align: right;\">\n",
       "      <th></th>\n",
       "      <th>employee_id</th>\n",
       "      <th>yrs_of_experience</th>\n",
       "      <th>yrs_at_company</th>\n",
       "      <th>compensation</th>\n",
       "      <th>career_track</th>\n",
       "    </tr>\n",
       "  </thead>\n",
       "  <tbody>\n",
       "    <tr>\n",
       "      <th>0</th>\n",
       "      <td>123456</td>\n",
       "      <td>24</td>\n",
       "      <td>10</td>\n",
       "      <td>1000000</td>\n",
       "      <td>tech</td>\n",
       "    </tr>\n",
       "    <tr>\n",
       "      <th>1</th>\n",
       "      <td>123453</td>\n",
       "      <td>14</td>\n",
       "      <td>7</td>\n",
       "      <td>140000</td>\n",
       "      <td>tech</td>\n",
       "    </tr>\n",
       "    <tr>\n",
       "      <th>2</th>\n",
       "      <td>1238572</td>\n",
       "      <td>10</td>\n",
       "      <td>10</td>\n",
       "      <td>70000</td>\n",
       "      <td>non_tech</td>\n",
       "    </tr>\n",
       "    <tr>\n",
       "      <th>3</th>\n",
       "      <td>123456</td>\n",
       "      <td>12</td>\n",
       "      <td>3</td>\n",
       "      <td>240000</td>\n",
       "      <td>exec</td>\n",
       "    </tr>\n",
       "    <tr>\n",
       "      <th>4</th>\n",
       "      <td>123456</td>\n",
       "      <td>5</td>\n",
       "      <td>2</td>\n",
       "      <td>120000</td>\n",
       "      <td>tech</td>\n",
       "    </tr>\n",
       "  </tbody>\n",
       "</table>\n",
       "</div>"
      ],
      "text/plain": [
       "  employee_id  yrs_of_experience  yrs_at_company  compensation career_track\n",
       "0      123456                 24              10       1000000         tech\n",
       "1      123453                 14               7        140000         tech\n",
       "2     1238572                 10              10         70000     non_tech\n",
       "3      123456                 12               3        240000         exec\n",
       "4      123456                  5               2        120000         tech"
      ]
     },
     "execution_count": 65,
     "metadata": {},
     "output_type": "execute_result"
    }
   ],
   "source": [
    "raw_data = {'employee_id': ['123456', '123453', '1238572', '123456', '123456'], \n",
    "        'yrs_of_experience': [24, 14, 10, 12, 5], \n",
    "        'yrs_at_company': [10, 7, 10, 3, 2], \n",
    "        'compensation': [1000000, 140000, 70000, 240000, 120000], \n",
    "        'career_track': ['tech', 'tech', 'non_tech', 'exec', 'tech']}\n",
    "\n",
    "df = pd.DataFrame(raw_data, columns = ['employee_id', 'yrs_of_experience', 'yrs_at_company', 'compensation', 'career_track'])\n",
    "df"
   ]
  },
  {
   "cell_type": "code",
   "execution_count": 66,
   "metadata": {},
   "outputs": [],
   "source": [
    "min_years = df['yrs_at_company'].min()"
   ]
  },
  {
   "cell_type": "code",
   "execution_count": 67,
   "metadata": {},
   "outputs": [],
   "source": [
    "max_years = df['yrs_at_company'].max()"
   ]
  },
  {
   "cell_type": "code",
   "execution_count": 68,
   "metadata": {},
   "outputs": [],
   "source": [
    "i = 0\n",
    "bins = []\n",
    "while i <= max_years:\n",
    "    bins.append(i)\n",
    "    i += 5"
   ]
  },
  {
   "cell_type": "code",
   "execution_count": 69,
   "metadata": {},
   "outputs": [
    {
     "data": {
      "text/plain": [
       "[0, 5, 10]"
      ]
     },
     "execution_count": 69,
     "metadata": {},
     "output_type": "execute_result"
    }
   ],
   "source": [
    "bins"
   ]
  },
  {
   "cell_type": "code",
   "execution_count": 70,
   "metadata": {},
   "outputs": [],
   "source": [
    "df['binned_years'] = pd.cut(df['yrs_at_company'], bins)\n"
   ]
  },
  {
   "cell_type": "code",
   "execution_count": 71,
   "metadata": {},
   "outputs": [
    {
     "data": {
      "text/html": [
       "<div>\n",
       "<style scoped>\n",
       "    .dataframe tbody tr th:only-of-type {\n",
       "        vertical-align: middle;\n",
       "    }\n",
       "\n",
       "    .dataframe tbody tr th {\n",
       "        vertical-align: top;\n",
       "    }\n",
       "\n",
       "    .dataframe thead th {\n",
       "        text-align: right;\n",
       "    }\n",
       "</style>\n",
       "<table border=\"1\" class=\"dataframe\">\n",
       "  <thead>\n",
       "    <tr style=\"text-align: right;\">\n",
       "      <th></th>\n",
       "      <th>employee_id</th>\n",
       "      <th>yrs_of_experience</th>\n",
       "      <th>yrs_at_company</th>\n",
       "      <th>compensation</th>\n",
       "      <th>career_track</th>\n",
       "      <th>binned_years</th>\n",
       "    </tr>\n",
       "  </thead>\n",
       "  <tbody>\n",
       "    <tr>\n",
       "      <th>0</th>\n",
       "      <td>123456</td>\n",
       "      <td>24</td>\n",
       "      <td>10</td>\n",
       "      <td>1000000</td>\n",
       "      <td>tech</td>\n",
       "      <td>(5, 10]</td>\n",
       "    </tr>\n",
       "    <tr>\n",
       "      <th>1</th>\n",
       "      <td>123453</td>\n",
       "      <td>14</td>\n",
       "      <td>7</td>\n",
       "      <td>140000</td>\n",
       "      <td>tech</td>\n",
       "      <td>(5, 10]</td>\n",
       "    </tr>\n",
       "    <tr>\n",
       "      <th>2</th>\n",
       "      <td>1238572</td>\n",
       "      <td>10</td>\n",
       "      <td>10</td>\n",
       "      <td>70000</td>\n",
       "      <td>non_tech</td>\n",
       "      <td>(5, 10]</td>\n",
       "    </tr>\n",
       "    <tr>\n",
       "      <th>3</th>\n",
       "      <td>123456</td>\n",
       "      <td>12</td>\n",
       "      <td>3</td>\n",
       "      <td>240000</td>\n",
       "      <td>exec</td>\n",
       "      <td>(0, 5]</td>\n",
       "    </tr>\n",
       "    <tr>\n",
       "      <th>4</th>\n",
       "      <td>123456</td>\n",
       "      <td>5</td>\n",
       "      <td>2</td>\n",
       "      <td>120000</td>\n",
       "      <td>tech</td>\n",
       "      <td>(0, 5]</td>\n",
       "    </tr>\n",
       "  </tbody>\n",
       "</table>\n",
       "</div>"
      ],
      "text/plain": [
       "  employee_id  yrs_of_experience  yrs_at_company  compensation career_track  \\\n",
       "0      123456                 24              10       1000000         tech   \n",
       "1      123453                 14               7        140000         tech   \n",
       "2     1238572                 10              10         70000     non_tech   \n",
       "3      123456                 12               3        240000         exec   \n",
       "4      123456                  5               2        120000         tech   \n",
       "\n",
       "  binned_years  \n",
       "0      (5, 10]  \n",
       "1      (5, 10]  \n",
       "2      (5, 10]  \n",
       "3       (0, 5]  \n",
       "4       (0, 5]  "
      ]
     },
     "execution_count": 71,
     "metadata": {},
     "output_type": "execute_result"
    }
   ],
   "source": [
    "df.head()"
   ]
  },
  {
   "cell_type": "code",
   "execution_count": null,
   "metadata": {},
   "outputs": [],
   "source": []
  },
  {
   "cell_type": "code",
   "execution_count": 78,
   "metadata": {},
   "outputs": [
    {
     "data": {
      "text/html": [
       "<div>\n",
       "<style scoped>\n",
       "    .dataframe tbody tr th:only-of-type {\n",
       "        vertical-align: middle;\n",
       "    }\n",
       "\n",
       "    .dataframe tbody tr th {\n",
       "        vertical-align: top;\n",
       "    }\n",
       "\n",
       "    .dataframe thead tr th {\n",
       "        text-align: left;\n",
       "    }\n",
       "\n",
       "    .dataframe thead tr:last-of-type th {\n",
       "        text-align: right;\n",
       "    }\n",
       "</style>\n",
       "<table border=\"1\" class=\"dataframe\">\n",
       "  <thead>\n",
       "    <tr>\n",
       "      <th></th>\n",
       "      <th colspan=\"5\" halign=\"left\">compensation</th>\n",
       "    </tr>\n",
       "    <tr>\n",
       "      <th></th>\n",
       "      <th>mean</th>\n",
       "      <th>amin</th>\n",
       "      <th>amax</th>\n",
       "      <th>median</th>\n",
       "      <th>std</th>\n",
       "    </tr>\n",
       "    <tr>\n",
       "      <th>binned_years</th>\n",
       "      <th></th>\n",
       "      <th></th>\n",
       "      <th></th>\n",
       "      <th></th>\n",
       "      <th></th>\n",
       "    </tr>\n",
       "  </thead>\n",
       "  <tbody>\n",
       "    <tr>\n",
       "      <th>(0, 5]</th>\n",
       "      <td>180000.000000</td>\n",
       "      <td>120000</td>\n",
       "      <td>240000</td>\n",
       "      <td>180000</td>\n",
       "      <td>84852.813742</td>\n",
       "    </tr>\n",
       "    <tr>\n",
       "      <th>(5, 10]</th>\n",
       "      <td>403333.333333</td>\n",
       "      <td>70000</td>\n",
       "      <td>1000000</td>\n",
       "      <td>140000</td>\n",
       "      <td>517912.476518</td>\n",
       "    </tr>\n",
       "  </tbody>\n",
       "</table>\n",
       "</div>"
      ],
      "text/plain": [
       "               compensation                                        \n",
       "                       mean    amin     amax  median            std\n",
       "binned_years                                                       \n",
       "(0, 5]        180000.000000  120000   240000  180000   84852.813742\n",
       "(5, 10]       403333.333333   70000  1000000  140000  517912.476518"
      ]
     },
     "execution_count": 78,
     "metadata": {},
     "output_type": "execute_result"
    }
   ],
   "source": [
    "df[['compensation', 'binned_years']].groupby(\"binned_years\").agg([np.mean, np.min, np.max, np.median, np.std])"
   ]
  },
  {
   "cell_type": "code",
   "execution_count": null,
   "metadata": {},
   "outputs": [],
   "source": [
    "min_years = df['yrs_at_company'].min()\n",
    "max_years = df['yrs_at_company'].max()\n",
    "i = 0\n",
    "bins = []\n",
    "while i <= max_years:\n",
    "    bins.append(i)\n",
    "    i += 5\n",
    "\n",
    "df['binned_years'] = pd.cut(df['yrs_at_company'], bins)\n",
    "df[['compensation', 'binned_years']].groupby(\"binned_years\").agg([np.mean, np.min, np.max, np.median, np.std])"
   ]
  }
 ],
 "metadata": {
  "kernelspec": {
   "display_name": "Python 3",
   "language": "python",
   "name": "python3"
  },
  "language_info": {
   "codemirror_mode": {
    "name": "ipython",
    "version": 3
   },
   "file_extension": ".py",
   "mimetype": "text/x-python",
   "name": "python",
   "nbconvert_exporter": "python",
   "pygments_lexer": "ipython3",
   "version": "3.6.5"
  }
 },
 "nbformat": 4,
 "nbformat_minor": 2
}
