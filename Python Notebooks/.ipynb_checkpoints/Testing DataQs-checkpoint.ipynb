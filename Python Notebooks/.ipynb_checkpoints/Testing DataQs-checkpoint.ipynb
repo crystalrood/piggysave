{
 "cells": [
  {
   "cell_type": "code",
   "execution_count": 13,
   "metadata": {},
   "outputs": [],
   "source": [
    "import pandas as pd\n",
    "import numpy as np\n"
   ]
  },
  {
   "cell_type": "code",
   "execution_count": 14,
   "metadata": {},
   "outputs": [
    {
     "data": {
      "text/html": [
       "<div>\n",
       "<style scoped>\n",
       "    .dataframe tbody tr th:only-of-type {\n",
       "        vertical-align: middle;\n",
       "    }\n",
       "\n",
       "    .dataframe tbody tr th {\n",
       "        vertical-align: top;\n",
       "    }\n",
       "\n",
       "    .dataframe thead th {\n",
       "        text-align: right;\n",
       "    }\n",
       "</style>\n",
       "<table border=\"1\" class=\"dataframe\">\n",
       "  <thead>\n",
       "    <tr style=\"text-align: right;\">\n",
       "      <th></th>\n",
       "      <th>user_id</th>\n",
       "      <th>app_id</th>\n",
       "      <th>app_name</th>\n",
       "      <th>event</th>\n",
       "    </tr>\n",
       "  </thead>\n",
       "  <tbody>\n",
       "    <tr>\n",
       "      <th>0</th>\n",
       "      <td>123456</td>\n",
       "      <td>1</td>\n",
       "      <td>CC</td>\n",
       "      <td>impressed</td>\n",
       "    </tr>\n",
       "    <tr>\n",
       "      <th>1</th>\n",
       "      <td>123456</td>\n",
       "      <td>1</td>\n",
       "      <td>CC</td>\n",
       "      <td>click</td>\n",
       "    </tr>\n",
       "    <tr>\n",
       "      <th>2</th>\n",
       "      <td>1234567</td>\n",
       "      <td>1</td>\n",
       "      <td>CC</td>\n",
       "      <td>impressed</td>\n",
       "    </tr>\n",
       "    <tr>\n",
       "      <th>3</th>\n",
       "      <td>1234567</td>\n",
       "      <td>1</td>\n",
       "      <td>CC</td>\n",
       "      <td>click</td>\n",
       "    </tr>\n",
       "    <tr>\n",
       "      <th>4</th>\n",
       "      <td>1234568</td>\n",
       "      <td>2</td>\n",
       "      <td>PP</td>\n",
       "      <td>impressed</td>\n",
       "    </tr>\n",
       "    <tr>\n",
       "      <th>5</th>\n",
       "      <td>1234568</td>\n",
       "      <td>2</td>\n",
       "      <td>PP</td>\n",
       "      <td>click</td>\n",
       "    </tr>\n",
       "    <tr>\n",
       "      <th>6</th>\n",
       "      <td>1234569</td>\n",
       "      <td>3</td>\n",
       "      <td>DD</td>\n",
       "      <td>impressed</td>\n",
       "    </tr>\n",
       "    <tr>\n",
       "      <th>7</th>\n",
       "      <td>1234569</td>\n",
       "      <td>3</td>\n",
       "      <td>DD</td>\n",
       "      <td>click</td>\n",
       "    </tr>\n",
       "  </tbody>\n",
       "</table>\n",
       "</div>"
      ],
      "text/plain": [
       "   user_id  app_id app_name      event\n",
       "0   123456       1       CC  impressed\n",
       "1   123456       1       CC      click\n",
       "2  1234567       1       CC  impressed\n",
       "3  1234567       1       CC      click\n",
       "4  1234568       2       PP  impressed\n",
       "5  1234568       2       PP      click\n",
       "6  1234569       3       DD  impressed\n",
       "7  1234569       3       DD      click"
      ]
     },
     "execution_count": 14,
     "metadata": {},
     "output_type": "execute_result"
    }
   ],
   "source": [
    "raw_data = {'user_id': [123456, 123456, 1234567, 1234567, 1234568, 1234568, 1234569, 1234569],\n",
    "            'app_id': [1, 1, 1, 1, 2, 2, 3, 3],\n",
    "            'app_name': [\"CC\", \"CC\", \"CC\", \"CC\", \"PP\", \"PP\", \"DD\", \"DD\"],\n",
    "            'event': [\"impressed\", \"click\", \"impressed\", \"click\", \"impressed\", \"click\", \"impressed\", \"click\"],\n",
    "           }\n",
    "\n",
    "df = pd.DataFrame(raw_data, columns = ['user_id', 'app_id', 'app_name', 'event'])\n",
    "df"
   ]
  },
  {
   "cell_type": "code",
   "execution_count": 16,
   "metadata": {},
   "outputs": [
    {
     "data": {
      "text/html": [
       "<div>\n",
       "<style scoped>\n",
       "    .dataframe tbody tr th:only-of-type {\n",
       "        vertical-align: middle;\n",
       "    }\n",
       "\n",
       "    .dataframe tbody tr th {\n",
       "        vertical-align: top;\n",
       "    }\n",
       "\n",
       "    .dataframe thead th {\n",
       "        text-align: right;\n",
       "    }\n",
       "</style>\n",
       "<table border=\"1\" class=\"dataframe\">\n",
       "  <thead>\n",
       "    <tr style=\"text-align: right;\">\n",
       "      <th></th>\n",
       "      <th></th>\n",
       "      <th></th>\n",
       "      <th>user_id</th>\n",
       "    </tr>\n",
       "    <tr>\n",
       "      <th>app_name</th>\n",
       "      <th>app_id</th>\n",
       "      <th>event</th>\n",
       "      <th></th>\n",
       "    </tr>\n",
       "  </thead>\n",
       "  <tbody>\n",
       "    <tr>\n",
       "      <th rowspan=\"2\" valign=\"top\">CC</th>\n",
       "      <th rowspan=\"2\" valign=\"top\">1</th>\n",
       "      <th>click</th>\n",
       "      <td>2</td>\n",
       "    </tr>\n",
       "    <tr>\n",
       "      <th>impressed</th>\n",
       "      <td>2</td>\n",
       "    </tr>\n",
       "    <tr>\n",
       "      <th rowspan=\"2\" valign=\"top\">DD</th>\n",
       "      <th rowspan=\"2\" valign=\"top\">3</th>\n",
       "      <th>click</th>\n",
       "      <td>1</td>\n",
       "    </tr>\n",
       "    <tr>\n",
       "      <th>impressed</th>\n",
       "      <td>1</td>\n",
       "    </tr>\n",
       "    <tr>\n",
       "      <th rowspan=\"2\" valign=\"top\">PP</th>\n",
       "      <th rowspan=\"2\" valign=\"top\">2</th>\n",
       "      <th>click</th>\n",
       "      <td>1</td>\n",
       "    </tr>\n",
       "    <tr>\n",
       "      <th>impressed</th>\n",
       "      <td>1</td>\n",
       "    </tr>\n",
       "  </tbody>\n",
       "</table>\n",
       "</div>"
      ],
      "text/plain": [
       "                           user_id\n",
       "app_name app_id event             \n",
       "CC       1      click            2\n",
       "                impressed        2\n",
       "DD       3      click            1\n",
       "                impressed        1\n",
       "PP       2      click            1\n",
       "                impressed        1"
      ]
     },
     "execution_count": 16,
     "metadata": {},
     "output_type": "execute_result"
    }
   ],
   "source": [
    "pd.pivot_table(df, index=['app_name','app_id', 'event'], aggfunc='count')\n"
   ]
  },
  {
   "cell_type": "code",
   "execution_count": 51,
   "metadata": {},
   "outputs": [],
   "source": [
    "new_df=new_df.sort_values(by='Month').reset_index(drop=True)"
   ]
  },
  {
   "cell_type": "code",
   "execution_count": 52,
   "metadata": {},
   "outputs": [],
   "source": [
    "new_df[\"Day\"] = \"\""
   ]
  },
  {
   "cell_type": "code",
   "execution_count": 53,
   "metadata": {},
   "outputs": [
    {
     "data": {
      "text/html": [
       "<div>\n",
       "<style scoped>\n",
       "    .dataframe tbody tr th:only-of-type {\n",
       "        vertical-align: middle;\n",
       "    }\n",
       "\n",
       "    .dataframe tbody tr th {\n",
       "        vertical-align: top;\n",
       "    }\n",
       "\n",
       "    .dataframe thead th {\n",
       "        text-align: right;\n",
       "    }\n",
       "</style>\n",
       "<table border=\"1\" class=\"dataframe\">\n",
       "  <thead>\n",
       "    <tr style=\"text-align: right;\">\n",
       "      <th></th>\n",
       "      <th>Month</th>\n",
       "      <th>Revenue</th>\n",
       "      <th>Day</th>\n",
       "    </tr>\n",
       "  </thead>\n",
       "  <tbody>\n",
       "    <tr>\n",
       "      <th>0</th>\n",
       "      <td>1</td>\n",
       "      <td>300</td>\n",
       "      <td></td>\n",
       "    </tr>\n",
       "    <tr>\n",
       "      <th>1</th>\n",
       "      <td>1</td>\n",
       "      <td>300</td>\n",
       "      <td></td>\n",
       "    </tr>\n",
       "    <tr>\n",
       "      <th>2</th>\n",
       "      <td>1</td>\n",
       "      <td>300</td>\n",
       "      <td></td>\n",
       "    </tr>\n",
       "    <tr>\n",
       "      <th>3</th>\n",
       "      <td>1</td>\n",
       "      <td>300</td>\n",
       "      <td></td>\n",
       "    </tr>\n",
       "    <tr>\n",
       "      <th>4</th>\n",
       "      <td>1</td>\n",
       "      <td>300</td>\n",
       "      <td></td>\n",
       "    </tr>\n",
       "  </tbody>\n",
       "</table>\n",
       "</div>"
      ],
      "text/plain": [
       "   Month  Revenue Day\n",
       "0      1      300    \n",
       "1      1      300    \n",
       "2      1      300    \n",
       "3      1      300    \n",
       "4      1      300    "
      ]
     },
     "execution_count": 53,
     "metadata": {},
     "output_type": "execute_result"
    }
   ],
   "source": [
    "new_df.head()"
   ]
  },
  {
   "cell_type": "code",
   "execution_count": 54,
   "metadata": {},
   "outputs": [],
   "source": [
    "i = 1\n",
    "for index, row in new_df.iterrows():\n",
    "    if i >30:\n",
    "        i = 1\n",
    "    new_df.loc[index, 'Day'] = i\n",
    "    i +=1"
   ]
  },
  {
   "cell_type": "code",
   "execution_count": 56,
   "metadata": {},
   "outputs": [],
   "source": [
    "new_df = new_df[['Month', 'Day', 'Revenue']]"
   ]
  },
  {
   "cell_type": "code",
   "execution_count": 59,
   "metadata": {},
   "outputs": [],
   "source": [
    "new_df['Revenue'] = new_df['Revenue']/30"
   ]
  },
  {
   "cell_type": "code",
   "execution_count": null,
   "metadata": {},
   "outputs": [],
   "source": []
  },
  {
   "cell_type": "code",
   "execution_count": 85,
   "metadata": {},
   "outputs": [],
   "source": [
    "J = [4, 4, 4, 9, 10, 11, 12]"
   ]
  },
  {
   "cell_type": "code",
   "execution_count": 86,
   "metadata": {},
   "outputs": [],
   "source": [
    "p=3\n",
    "current=0"
   ]
  },
  {
   "cell_type": "code",
   "execution_count": 87,
   "metadata": {},
   "outputs": [
    {
     "name": "stdout",
     "output_type": "stream",
     "text": [
      "new loop\n",
      "i = 0\n",
      "p = 3\n",
      "J[i] = 4\n",
      "current = 4\n",
      "new loop\n",
      "i = 1\n",
      "p = 3\n",
      "J[i] = 4\n",
      "current = 8\n",
      "new loop\n",
      "i = 2\n",
      "p = 3\n",
      "J[i] = 4\n",
      "current = 12\n"
     ]
    }
   ],
   "source": [
    "for i in range(p):\n",
    "    current += J[i]\n",
    "    print(\"new loop\")\n",
    "    print(\"i = \"+ str(i))\n",
    "    print(\"p = \" +str(p))\n",
    "    print(\"J[i] = \" +str(J[i]))\n",
    "    print(\"current = \" +str(current))"
   ]
  },
  {
   "cell_type": "code",
   "execution_count": 88,
   "metadata": {},
   "outputs": [],
   "source": [
    "high = low = current"
   ]
  },
  {
   "cell_type": "code",
   "execution_count": 89,
   "metadata": {},
   "outputs": [
    {
     "name": "stdout",
     "output_type": "stream",
     "text": [
      "new loop\n",
      "i = 3\n",
      "i-p = 0\n",
      "p = 3\n",
      "J[i] = 9\n",
      "current = 17\n",
      "low = 12\n",
      "high = 17\n",
      "new loop\n",
      "i = 4\n",
      "i-p = 1\n",
      "p = 3\n",
      "J[i] = 10\n",
      "current = 23\n",
      "low = 12\n",
      "high = 23\n",
      "new loop\n",
      "i = 5\n",
      "i-p = 2\n",
      "p = 3\n",
      "J[i] = 11\n",
      "current = 30\n",
      "low = 12\n",
      "high = 30\n",
      "new loop\n",
      "i = 6\n",
      "i-p = 3\n",
      "p = 3\n",
      "J[i] = 12\n",
      "current = 33\n",
      "low = 12\n",
      "high = 33\n"
     ]
    }
   ],
   "source": [
    "for i in range(p, len(J)):\n",
    "    # this loop iterates through each value after the first sequence\n",
    "    # we recaluclate current each time we iterate through this loop by \n",
    "    # adding J[i] --e.g. the current value we're at, and subtracting the\n",
    "    # value that is 1 position outside of the current sequence\n",
    "    # we then compare the current value against the the lowest value \n",
    "    # and highest value\n",
    "\n",
    "    current = current - J[i-p] + J[i]\n",
    "    low = min(low, current)\n",
    "    high = max(high,current)\n",
    "    print(\"new loop\")\n",
    "    print(\"i = \"+ str(i))\n",
    "    print(\"i-p = \"+ str(i-p))\n",
    "    print(\"p = \" +str(p))\n",
    "    print(\"J[i] = \" +str(J[i]))\n",
    "    print(\"current = \" +str(current))\n",
    "    print(\"low = \" +str(low))\n",
    "    print(\"high = \" +str(high))"
   ]
  },
  {
   "cell_type": "code",
   "execution_count": 82,
   "metadata": {},
   "outputs": [
    {
     "data": {
      "text/plain": [
       "17"
      ]
     },
     "execution_count": 82,
     "metadata": {},
     "output_type": "execute_result"
    }
   ],
   "source": [
    "low"
   ]
  },
  {
   "cell_type": "code",
   "execution_count": 83,
   "metadata": {},
   "outputs": [
    {
     "data": {
      "text/plain": [
       "38"
      ]
     },
     "execution_count": 83,
     "metadata": {},
     "output_type": "execute_result"
    }
   ],
   "source": [
    "high"
   ]
  },
  {
   "cell_type": "code",
   "execution_count": 4,
   "metadata": {},
   "outputs": [],
   "source": [
    "s = {1, 2, 3}"
   ]
  },
  {
   "cell_type": "code",
   "execution_count": 97,
   "metadata": {},
   "outputs": [
    {
     "name": "stdout",
     "output_type": "stream",
     "text": [
      "[]\n"
     ]
    },
    {
     "ename": "TypeError",
     "evalue": "'set' object does not support indexing",
     "output_type": "error",
     "traceback": [
      "\u001b[0;31m---------------------------------------------------------------------------\u001b[0m",
      "\u001b[0;31mTypeError\u001b[0m                                 Traceback (most recent call last)",
      "\u001b[0;32m<ipython-input-97-41993bbe58c9>\u001b[0m in \u001b[0;36m<module>\u001b[0;34m()\u001b[0m\n\u001b[1;32m      2\u001b[0m \u001b[0mx\u001b[0m \u001b[0;34m=\u001b[0m \u001b[0mlen\u001b[0m\u001b[0;34m(\u001b[0m\u001b[0ms\u001b[0m\u001b[0;34m)\u001b[0m\u001b[0;34m\u001b[0m\u001b[0m\n\u001b[1;32m      3\u001b[0m \u001b[0;32mfor\u001b[0m \u001b[0mi\u001b[0m \u001b[0;32min\u001b[0m \u001b[0mrange\u001b[0m\u001b[0;34m(\u001b[0m\u001b[0;36m1\u001b[0m \u001b[0;34m<<\u001b[0m \u001b[0mx\u001b[0m\u001b[0;34m)\u001b[0m\u001b[0;34m:\u001b[0m\u001b[0;34m\u001b[0m\u001b[0m\n\u001b[0;32m----> 4\u001b[0;31m     \u001b[0mprint\u001b[0m\u001b[0;34m(\u001b[0m\u001b[0;34m[\u001b[0m\u001b[0ms\u001b[0m\u001b[0;34m[\u001b[0m\u001b[0mj\u001b[0m\u001b[0;34m]\u001b[0m \u001b[0;32mfor\u001b[0m \u001b[0mj\u001b[0m \u001b[0;32min\u001b[0m \u001b[0mrange\u001b[0m\u001b[0;34m(\u001b[0m\u001b[0mx\u001b[0m\u001b[0;34m)\u001b[0m \u001b[0;32mif\u001b[0m \u001b[0;34m(\u001b[0m\u001b[0mi\u001b[0m \u001b[0;34m&\u001b[0m \u001b[0;34m(\u001b[0m\u001b[0;36m1\u001b[0m \u001b[0;34m<<\u001b[0m \u001b[0mj\u001b[0m\u001b[0;34m)\u001b[0m\u001b[0;34m)\u001b[0m\u001b[0;34m]\u001b[0m\u001b[0;34m)\u001b[0m\u001b[0;34m\u001b[0m\u001b[0m\n\u001b[0m",
      "\u001b[0;32m<ipython-input-97-41993bbe58c9>\u001b[0m in \u001b[0;36m<listcomp>\u001b[0;34m(.0)\u001b[0m\n\u001b[1;32m      2\u001b[0m \u001b[0mx\u001b[0m \u001b[0;34m=\u001b[0m \u001b[0mlen\u001b[0m\u001b[0;34m(\u001b[0m\u001b[0ms\u001b[0m\u001b[0;34m)\u001b[0m\u001b[0;34m\u001b[0m\u001b[0m\n\u001b[1;32m      3\u001b[0m \u001b[0;32mfor\u001b[0m \u001b[0mi\u001b[0m \u001b[0;32min\u001b[0m \u001b[0mrange\u001b[0m\u001b[0;34m(\u001b[0m\u001b[0;36m1\u001b[0m \u001b[0;34m<<\u001b[0m \u001b[0mx\u001b[0m\u001b[0;34m)\u001b[0m\u001b[0;34m:\u001b[0m\u001b[0;34m\u001b[0m\u001b[0m\n\u001b[0;32m----> 4\u001b[0;31m     \u001b[0mprint\u001b[0m\u001b[0;34m(\u001b[0m\u001b[0;34m[\u001b[0m\u001b[0ms\u001b[0m\u001b[0;34m[\u001b[0m\u001b[0mj\u001b[0m\u001b[0;34m]\u001b[0m \u001b[0;32mfor\u001b[0m \u001b[0mj\u001b[0m \u001b[0;32min\u001b[0m \u001b[0mrange\u001b[0m\u001b[0;34m(\u001b[0m\u001b[0mx\u001b[0m\u001b[0;34m)\u001b[0m \u001b[0;32mif\u001b[0m \u001b[0;34m(\u001b[0m\u001b[0mi\u001b[0m \u001b[0;34m&\u001b[0m \u001b[0;34m(\u001b[0m\u001b[0;36m1\u001b[0m \u001b[0;34m<<\u001b[0m \u001b[0mj\u001b[0m\u001b[0;34m)\u001b[0m\u001b[0;34m)\u001b[0m\u001b[0;34m]\u001b[0m\u001b[0;34m)\u001b[0m\u001b[0;34m\u001b[0m\u001b[0m\n\u001b[0m",
      "\u001b[0;31mTypeError\u001b[0m: 'set' object does not support indexing"
     ]
    }
   ],
   "source": [
    "i = 0\n",
    "x = len(s)\n",
    "for i in range(1 << x):\n",
    "    print([s[j] for j in range(x) if (i & (1 << j))])\n"
   ]
  },
  {
   "cell_type": "code",
   "execution_count": 9,
   "metadata": {},
   "outputs": [
    {
     "name": "stdout",
     "output_type": "stream",
     "text": [
      "new loop\n",
      "[[], [1]]\n",
      "[]\n",
      "1\n",
      "new loop\n",
      "[[], [1], [2]]\n",
      "[]\n",
      "2\n",
      "new loop\n",
      "[[], [1], [2], [1, 2]]\n",
      "[1]\n",
      "2\n",
      "new loop\n",
      "[[], [1], [2], [1, 2], [3]]\n",
      "[]\n",
      "3\n",
      "new loop\n",
      "[[], [1], [2], [1, 2], [3], [1, 3]]\n",
      "[1]\n",
      "3\n",
      "new loop\n",
      "[[], [1], [2], [1, 2], [3], [1, 3], [2, 3]]\n",
      "[2]\n",
      "3\n",
      "new loop\n",
      "[[], [1], [2], [1, 2], [3], [1, 3], [2, 3], [1, 2, 3]]\n",
      "[1, 2]\n",
      "3\n"
     ]
    }
   ],
   "source": [
    "power_set=[[]]\n",
    "for elem in s:\n",
    "# iterate over the sub sets so far\n",
    "    for sub_set in power_set:\n",
    "        print(\"new loop\")\n",
    "      # add a new subset consisting of the subset at hand added elem\n",
    "        power_set=power_set+[list(sub_set)+[elem]]\n",
    "        print(power_set)\n",
    "        print(sub_set)\n",
    "        print(elem)"
   ]
  },
  {
   "cell_type": "code",
   "execution_count": 7,
   "metadata": {},
   "outputs": [
    {
     "data": {
      "text/plain": [
       "[[], [1], [2], [1, 2], [3], [1, 3], [2, 3], [1, 2, 3]]"
      ]
     },
     "execution_count": 7,
     "metadata": {},
     "output_type": "execute_result"
    }
   ],
   "source": [
    "power_set"
   ]
  },
  {
   "cell_type": "code",
   "execution_count": 24,
   "metadata": {},
   "outputs": [],
   "source": [
    "import copy\n",
    "potential_values = [2,3,6,7,8]\n",
    "\n",
    "def footballScores(score):\n",
    "    table = {0: [{}] }\n",
    "    for i in range (1, score + 1):\n",
    "            table[i] = []\n",
    "            for value in potential_values:\n",
    "                if i - value < 0 or i - value not in table:\n",
    "                    # if we can't fit it we skip the value\n",
    "                    continue\n",
    "                for score_config in table[i - value]:\n",
    "                    # for each score config in the previous total append it to this value\n",
    "                    new_score_config = copy.copy(score_config)\n",
    "                    new_score_config[value] = new_score_config.get(value, 0) + 1\n",
    "                    \n",
    "                    if new_score_config not in table[i]:\n",
    "                        table[i].append(new_score_config)\n",
    "                        \n",
    "    return T[score]"
   ]
  },
  {
   "cell_type": "code",
   "execution_count": 25,
   "metadata": {},
   "outputs": [
    {
     "data": {
      "text/plain": [
       "[{2: 5}, {3: 2, 2: 2}, {6: 1, 2: 2}, {8: 1, 2: 1}, {7: 1, 3: 1}]"
      ]
     },
     "execution_count": 25,
     "metadata": {},
     "output_type": "execute_result"
    }
   ],
   "source": [
    "footballScores(10)"
   ]
  },
  {
   "cell_type": "code",
   "execution_count": null,
   "metadata": {},
   "outputs": [],
   "source": []
  }
 ],
 "metadata": {
  "kernelspec": {
   "display_name": "Python 3",
   "language": "python",
   "name": "python3"
  },
  "language_info": {
   "codemirror_mode": {
    "name": "ipython",
    "version": 3
   },
   "file_extension": ".py",
   "mimetype": "text/x-python",
   "name": "python",
   "nbconvert_exporter": "python",
   "pygments_lexer": "ipython3",
   "version": "3.6.5"
  }
 },
 "nbformat": 4,
 "nbformat_minor": 2
}
